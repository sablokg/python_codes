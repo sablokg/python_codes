{
 "cells": [
  {
   "cell_type": "code",
   "execution_count": 14,
   "metadata": {},
   "outputs": [],
   "source": [
    "#Python Dictionary: \n",
    "dd= { 'Veronica' : {'p':60, 'c': 75, 'm': 50}, \n",
    "'Cynthia' : {'p':50, 'c': 55, 'm': 70}, \n",
    "'Miley': {'p':70, 'c': 50, 'm': 90}, \n",
    "'Wanda' : {'p':40, 'c': 70, 'm': 80},\n",
    "'Ronnie' : {'p':25, 'c': 80, 'm': 55}, \n",
    "'Samantha' : {'p':40, 'c': 90, 'm': 70}, \n",
    "'Sarah': {'p':85, 'c': 75, 'm': 95}, \n",
    "'Yvonne' : {'p':75, 'c': 75, 'm': 75}, \n",
    "'Timothy' : {'p':90, 'c': 85, 'm': 80},\n",
    "'Leah' : {'p':55, 'c': 30, 'm': 40},\n",
    "'June' : {'p':25, 'c': 30, 'm': 50},\n",
    "'Betty' : {'p':10, 'c': 25, 'm': 30},\n",
    "'Cookie' : {'p':35, 'c': 10, 'm': 45},\n",
    "'Dwight' : {'p':80, 'c': 65, 'm': 60},\n",
    "'Nashrah' : {'p':80, 'c': 85, 'm': 90},\n",
    "'Debbie': {'p':65, 'c': 75, 'm': 55},\n",
    "'Chloe' : {'p':40, 'c': 35, 'm': 20},\n",
    "'Merle': {'p':78, 'c': 83, 'm': 73},\n",
    "'Tammy': {'p':87, 'c': 92, 'm': 82},\n",
    "'April' : {'p':66, 'c': 79, 'm': 53},\n",
    "'Faith' : {'p':70, 'c': 50, 'm': 90},\n",
    "'Brenda' : {'p':25, 'c': 80, 'm': 55},\n",
    "'Emmylou' : {'p':75, 'c': 65, 'm': 80},\n",
    "'Keira' : {'p':50, 'c': 45, 'm': 55}\n",
    "}\n",
    "\n",
    "for t in dd.items():\n",
    "...  print(f'{t[0]:<10}   '+('%(p)d  %(c)d  %(m)d' % t[1]))\n",
    "for t in dd.items():\n",
    "...  print(f'{t[0]:<10}   '+('%(p)d  %(c)d  %(m)d    ' % t[1])+f'{sum(t[1].values()):>03d}')"
   ]
  },
  {
   "cell_type": "code",
   "execution_count": 2,
   "metadata": {},
   "outputs": [],
   "source": [
    "#Python Dictionary: \n",
    "dl= {'Veronica': [60, 75, 50],\n",
    "'Cynthia' : [50, 55, 70],\n",
    "'Miley' : [70, 50, 90],\n",
    "'Wanda' : [40, 70, 80],\n",
    "'Ronnie' : [25, 80, 55],\n",
    "'Samantha' : [40, 90, 70],\n",
    "'Sarah':[85, 75, 95],\n",
    "'Yvonne' : [75, 75, 75],\n",
    "'Timothy' : [90, 85, 80],\n",
    "'Leah' : [55, 30, 40],\n",
    "'June' : [25, 30, 40],\n",
    "'Betty': [10, 25, 30],\n",
    "'Cookie' : [35, 10, 45],\n",
    "'Dwight' : [80, 65, 60],\n",
    "'Nashrah' : [80, 85, 90],\n",
    "'Debbie' : [65, 75, 55],\n",
    "'Chloe' : [40, 35, 20],\n",
    "'Merle' : [78, 83, 73],\n",
    "'Tammy' : [87, 92, 82],\n",
    "'April' : [66, 79, 53],\n",
    "'Faith' : [66, 79, 53],\n",
    "'Brenda' : [25, 80, 55],\n",
    "'Emmylou' : [75, 80, 80],\n",
    "'Keira' : [50, 45, 55]\n",
    "}\n",
    "\n",
    " for i in dl.items():\n",
    "...  print(f'{t[0]:<10} '+'{:03d}  {:03d}  {:03d}   '.format(*t[1])+f'{sum(t[1]) :> 03d}')"
   ]
  }
 ],
 "metadata": {
  "kernelspec": {
   "display_name": "Python 3.9.15 ('base')",
   "language": "python",
   "name": "python3"
  },
  "language_info": {
   "codemirror_mode": {
    "name": "ipython",
    "version": 3
   },
   "file_extension": ".py",
   "mimetype": "text/x-python",
   "name": "python",
   "nbconvert_exporter": "python",
   "pygments_lexer": "ipython3",
   "version": "3.9.15"
  },
  "orig_nbformat": 4,
  "vscode": {
   "interpreter": {
    "hash": "f731066023ac01cb83b0919592cccda9b3837cfce89d22e0f769b9496944f601"
   }
  }
 },
 "nbformat": 4,
 "nbformat_minor": 2
}
