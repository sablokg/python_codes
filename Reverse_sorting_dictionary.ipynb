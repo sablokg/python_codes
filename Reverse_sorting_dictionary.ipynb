{
 "cells": [
  {
   "cell_type": "code",
   "execution_count": null,
   "metadata": {},
   "outputs": [],
   "source": [
    "dl = {'Veronica': [60, 75, 50],\n",
    "      'Cynthia': [50, 55, 70],\n",
    "      'Miley': [70, 50, 90],\n",
    "      'Wanda': [40, 70, 80],\n",
    "      'Ronnie': [25, 80, 55],\n",
    "      'Samantha': [40, 90, 70],\n",
    "      'Sarah': [85, 75, 95],\n",
    "      'Yvonne': [75, 75, 75],\n",
    "      'Timothy': [90, 85, 80],\n",
    "      'Leah': [55, 30, 40],\n",
    "      'June': [25, 30, 40],\n",
    "      'Betty': [10, 25, 30],\n",
    "      'Cookie': [35, 10, 45],\n",
    "      'Dwight': [80, 65, 60],\n",
    "      'Nashrah': [80, 85, 90],\n",
    "      'Debbie': [65, 75, 55],\n",
    "      'Chloe': [40, 35, 20],\n",
    "      'Merle': [78, 83, 73],\n",
    "      'Tammy': [87, 92, 82],\n",
    "      'April': [66, 79, 53],\n",
    "      'Faith': [66, 79, 53],\n",
    "      'Brenda': [25, 80, 55],\n",
    "      'Emmylou': [75, 80, 80],\n",
    "      'Keira': [50, 45, 55]\n",
    "      }\n",
    "# sort and reversed the dictionary in a single line\n",
    "print(sorted(dict(list(dl.items())[::-1]).items(), key = lambda x: x[0]))"
   ]
  }
 ],
 "metadata": {
  "kernelspec": {
   "display_name": "base",
   "language": "python",
   "name": "python3"
  },
  "language_info": {
   "name": "python",
   "version": "3.9.15 (main, Nov 24 2022, 08:29:02) \n[Clang 14.0.6 ]"
  },
  "orig_nbformat": 4,
  "vscode": {
   "interpreter": {
    "hash": "f731066023ac01cb83b0919592cccda9b3837cfce89d22e0f769b9496944f601"
   }
  }
 },
 "nbformat": 4,
 "nbformat_minor": 2
}
