{
 "cells": [
  {
   "cell_type": "code",
   "execution_count": 13,
   "metadata": {},
   "outputs": [],
   "source": [
    "# Remove all the strings from a list of tuples or lists\n",
    "\n",
    "# Using the function and loop\n",
    "a = [[9, 10, 'text', 12],[7, 'text', 8, 10, 15]]\n",
    "b = []\n",
    "c = []\n",
    "for i in a:\n",
    "  for k in i:\n",
    "    if type(k) == int:\n",
    "      b.append(k)\n",
    "    if type(k) == str:\n",
    "      c.append(k)\n",
    "print(a,b,c)\n",
    "\n",
    "# Using list comprehension \n",
    "\n",
    "[tuple(filter(lambda s: type(s)!= str,t)) for t in a]\n",
    "\n",
    "# Using filter approach\n",
    "\n",
    "list(filter(a, key=lambda t: tuple(filter(lambda s:type(s)!==str,t))))\n"
   ]
  }
 ],
 "metadata": {
  "kernelspec": {
   "display_name": "Python 3.11.0 64-bit",
   "language": "python",
   "name": "python3"
  },
  "language_info": {
   "codemirror_mode": {
    "name": "ipython",
    "version": 3
   },
   "file_extension": ".py",
   "mimetype": "text/x-python",
   "name": "python",
   "nbconvert_exporter": "python",
   "pygments_lexer": "ipython3",
   "version": "3.11.0"
  },
  "orig_nbformat": 4,
  "vscode": {
   "interpreter": {
    "hash": "1a1af0ee75eeea9e2e1ee996c87e7a2b11a0bebd85af04bb136d915cefc0abce"
   }
  }
 },
 "nbformat": 4,
 "nbformat_minor": 2
}
