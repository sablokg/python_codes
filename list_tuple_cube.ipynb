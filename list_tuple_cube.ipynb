{
 "cells": [
  {
   "cell_type": "code",
   "execution_count": null,
   "metadata": {},
   "outputs": [],
   "source": [
    "# Create a list of tuple from the given list having the number and its cube in each tuple\n",
    "\n",
    "l = list(n for n in range(5,25,2))\n",
    "print(l)\n",
    "l_c=[]\n",
    "for n in l:\n",
    "    pow(n,3)\n",
    "    l_c.append(pow(n,3))\n",
    "print(l_c)"
   ]
  }
 ],
 "metadata": {
  "kernelspec": {
   "display_name": "Python 3.11.0 64-bit",
   "language": "python",
   "name": "python3"
  },
  "language_info": {
   "name": "python",
   "version": "3.11.0"
  },
  "orig_nbformat": 4,
  "vscode": {
   "interpreter": {
    "hash": "20e40d8fc09a6690434ad602c7eb2d8de15d36ec466bfbfb0de97c7c540d7363"
   }
  }
 },
 "nbformat": 4,
 "nbformat_minor": 2
}
