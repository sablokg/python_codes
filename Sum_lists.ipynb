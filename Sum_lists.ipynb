{
 "cells": [
  {
   "cell_type": "code",
   "execution_count": null,
   "metadata": {},
   "outputs": [],
   "source": [
    "# Make a sum of the list of the lists and convert into a single scalar value\n",
    "l=[[40, 10, 20, 10, 40, 10, 40, 10, 20, 10], [25, 25, 35, 25, 15, 55, 33, 15]]\n",
    "s=0\n",
    "for x in l:\n",
    "  s=s+sum(x)\n",
    "print(s)\n",
    "# Using the map function\n",
    "sum(map(sum,l))"
   ]
  }
 ],
 "metadata": {
  "language_info": {
   "name": "python"
  },
  "orig_nbformat": 4
 },
 "nbformat": 4,
 "nbformat_minor": 2
}
