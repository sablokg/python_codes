{
 "cells": [
  {
   "cell_type": "code",
   "execution_count": 13,
   "metadata": {},
   "outputs": [],
   "source": [
    "# Filter the empty tuples from the lists\n",
    "\n",
    "l = [(2,3), (), ('Tim', 20, 'Ron', 15)]\n",
    "\n",
    "list(filter(None, l))\n",
    "\n",
    "# Remember the Python Keywords are: True,False,class,def,return,if,elif,else,try,except,raise,finally,for,in,is,not,\n",
    "# from,import,global,lambda,nonlocal,pass,while,break,continue,and,with,as,yield,del,or,assert,None\n"
   ]
  }
 ],
 "metadata": {
  "kernelspec": {
   "display_name": "Python 3.11.0 64-bit",
   "language": "python",
   "name": "python3"
  },
  "language_info": {
   "codemirror_mode": {
    "name": "ipython",
    "version": 3
   },
   "file_extension": ".py",
   "mimetype": "text/x-python",
   "name": "python",
   "nbconvert_exporter": "python",
   "pygments_lexer": "ipython3",
   "version": "3.11.0"
  },
  "orig_nbformat": 4,
  "vscode": {
   "interpreter": {
    "hash": "1a1af0ee75eeea9e2e1ee996c87e7a2b11a0bebd85af04bb136d915cefc0abce"
   }
  }
 },
 "nbformat": 4,
 "nbformat_minor": 2
}
