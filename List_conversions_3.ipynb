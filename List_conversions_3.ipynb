{
 "cells": [
  {
   "cell_type": "code",
   "execution_count": null,
   "metadata": {},
   "outputs": [],
   "source": [
    "# Filter the array based on the specified number\n",
    "array_1 = [[10, 20, 30, 40, 50],\n",
    "           [50, 60, 70, 10, 80],\n",
    "           [60, 50, 10, 40, 40]]\n",
    "array_2 = [[10, 20, 100, 40, 50],\n",
    "           [50, 60, 200, 10, 80],\n",
    "           [60, 50, 300, 40, 40]]\n",
    "var_1 = []\n",
    "var_1_bool = []\n",
    "var_2 = []\n",
    "var_2_bool = []\n",
    "for i in array_1:\n",
    "    for j in i:\n",
    "        var_1.append(j)\n",
    "        var_1_bool.append(any(vals < 50 for vals in var_1))\n",
    "        for p in array_2:\n",
    "            for o in p:\n",
    "                var_2.append(o)\n",
    "var_2_bool.append(any(vals < 50 for vals in var_2))"
   ]
  }
 ],
 "metadata": {
  "language_info": {
   "name": "python"
  },
  "orig_nbformat": 4
 },
 "nbformat": 4,
 "nbformat_minor": 2
}
