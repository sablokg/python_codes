{
 "cells": [
  {
   "cell_type": "code",
   "execution_count": null,
   "metadata": {},
   "outputs": [],
   "source": [
    "#String segmentation\n",
    "#You are given a dictionary of words and a large input string. You have to find out whether the input string can be completely \n",
    "#segmented into the words of a given dictionary. The following two examples elaborate on the problem further.\n",
    "#Input: s = \"applepenapple\", wordDict = [\"apple\", \"pen\"]\n",
    "#Output: true\n",
    "#Explanation: Return true because \"applepenapple\" can be segmented as \"apple pen apple\".\n",
    "             #Note that you are allowed to reuse a dictionary word.\n",
    "from more_itertools import windowed\n",
    "s = \"applepenapple\"\n",
    "wordDict = [\"apple\", \"pen\"]\n",
    "b=(list(windowed(list(s),3)))\n",
    "dictionary=[]\n",
    "for i in b:\n",
    "    dictionary.append(''.join(i))\n",
    "print(dictionary)\n",
    "for i in dictionary:\n",
    "    for j in wordDict:\n",
    "        if i==j:\n",
    "            print(any(i))"
   ]
  }
 ],
 "metadata": {
  "kernelspec": {
   "display_name": "base",
   "language": "python",
   "name": "python3"
  },
  "language_info": {
   "name": "python",
   "version": "3.9.15 (main, Nov 24 2022, 08:29:02) \n[Clang 14.0.6 ]"
  },
  "orig_nbformat": 4,
  "vscode": {
   "interpreter": {
    "hash": "f731066023ac01cb83b0919592cccda9b3837cfce89d22e0f769b9496944f601"
   }
  }
 },
 "nbformat": 4,
 "nbformat_minor": 2
}
