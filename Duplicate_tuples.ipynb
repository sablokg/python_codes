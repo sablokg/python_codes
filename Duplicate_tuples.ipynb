{
 "cells": [
  {
   "cell_type": "code",
   "execution_count": 13,
   "metadata": {},
   "outputs": [],
   "source": [
    "Count duplicates in a list of tuples\n",
    "\n",
    "l=[(1, 3), (5, 6), (1, 3), (5,6), (9, 3)]\n",
    "\n",
    "from collections import Counter\n",
    "\n",
    "'''\n",
    "print those tuples which are repitive tuples '''\n",
    "\n",
    "(list(Counter(l)))\n",
    "\n",
    "'''\n",
    "List the count of the tuples in a list which are repetitive '''\n",
    "\n",
    "list(filter(lambda n: n > 1, Counter(l).values()))\n"
   ]
  }
 ],
 "metadata": {
  "kernelspec": {
   "display_name": "Python 3.11.0 64-bit",
   "language": "python",
   "name": "python3"
  },
  "language_info": {
   "codemirror_mode": {
    "name": "ipython",
    "version": 3
   },
   "file_extension": ".py",
   "mimetype": "text/x-python",
   "name": "python",
   "nbconvert_exporter": "python",
   "pygments_lexer": "ipython3",
   "version": "3.11.0"
  },
  "orig_nbformat": 4,
  "vscode": {
   "interpreter": {
    "hash": "1a1af0ee75eeea9e2e1ee996c87e7a2b11a0bebd85af04bb136d915cefc0abce"
   }
  }
 },
 "nbformat": 4,
 "nbformat_minor": 2
}
