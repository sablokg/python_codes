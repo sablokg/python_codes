{
 "cells": [
  {
   "cell_type": "code",
   "execution_count": null,
   "metadata": {},
   "outputs": [],
   "source": [
    "# Pattern \n",
    "*\n",
    "**\n",
    "***\n",
    "****\n",
    "*****\n",
    "******\n",
    "*******\n",
    "********\n",
    "*********\n",
    "**********\n",
    "\n",
    "n=10\n",
    "for i in range(n):\n",
    "    for j in range(i+1):\n",
    "        print('*',end='')\n",
    "    print()\n",
    "\n",
    "print('\\n')\n",
    "\n",
    "for i in range(n):\n",
    "    print('*'*(i+1))\n",
    "\n",
    "print('\\n')\n",
    "\n",
    "print('\\n'.join(['*'*(i+1) for i in range(n)]))\n",
    "\n",
    "*********\n",
    "********\n",
    "*******\n",
    "******\n",
    "*****\n",
    "****\n",
    "***\n",
    "**\n",
    "*\n",
    "\n",
    "n=10\n",
    "for i in range(n):\n",
    "    for j in range(n-i-1):\n",
    "        print('*',end='')\n",
    "    print()\n",
    "OR\n",
    "n=10\n",
    "for i in range(n):\n",
    "    for j in range(n-i+1):\n",
    "        print(str('*'),end='')\n",
    "    print()\n",
    "OR \n",
    "n=10\n",
    "for i in range(n,0,-1):\n",
    "    for j in range(i):\n",
    "        print('*',end='')\n",
    "    print()"
   ]
  },
  {
   "cell_type": "code",
   "execution_count": null,
   "metadata": {},
   "outputs": [],
   "source": []
  }
 ],
 "metadata": {
  "kernelspec": {
   "display_name": "base",
   "language": "python",
   "name": "python3"
  },
  "language_info": {
   "codemirror_mode": {
    "name": "ipython",
    "version": 3
   },
   "file_extension": ".py",
   "mimetype": "text/x-python",
   "name": "python",
   "nbconvert_exporter": "python",
   "pygments_lexer": "ipython3",
   "version": "3.9.15 (main, Nov 24 2022, 08:29:02) \n[Clang 14.0.6 ]"
  },
  "orig_nbformat": 4,
  "vscode": {
   "interpreter": {
    "hash": "f731066023ac01cb83b0919592cccda9b3837cfce89d22e0f769b9496944f601"
   }
  }
 },
 "nbformat": 4,
 "nbformat_minor": 2
}
