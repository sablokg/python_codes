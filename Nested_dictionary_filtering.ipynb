{
 "cells": [
  {
   "cell_type": "code",
   "execution_count": null,
   "metadata": {},
   "outputs": [],
   "source": [
    "# Given two nested dictionaries, find the sql overlap and then only print those dictionary values which are greater than a given sum. No function allowed\n",
    "data={'Veronica': [60, 75, 50],\n",
    "      'Cynthia': [50, 55, 70],\n",
    "      'Miley': [66, 79, 53],\n",
    "      'Wanda': [40, 70, 80],\n",
    "      'Ronnie': [65, 75, 55],\n",
    "      'Samantha': [40, 90, 70],\n",
    "      'Sarah': [80, 85, 90],\n",
    "      'Yvonne': [75, 75, 75],\n",
    "      'Timothy': [90, 85, 80],\n",
    "      'Leah': [55, 30, 40],\n",
    "      'June': [25, 30, 40]}\n",
    "data1={'Betty': [10, 25, 30],\n",
    "      'Cookie': [35, 10, 45],\n",
    "      'Dwight': [80, 65, 60],\n",
    "      'Nashrah': [80, 85, 90],\n",
    "      'Debbie': [65, 75, 55],\n",
    "      'Chloe': [40, 35, 20],\n",
    "      'Merle': [78, 83, 73],\n",
    "      'Tammy': [87, 92, 82],\n",
    "      'April': [66, 79, 53],\n",
    "      'Faith': [66, 79, 53],\n",
    "      'Brenda': [25, 80, 55],\n",
    "      'Emmylou': [75, 80, 80],\n",
    "      'Keira': [50, 45, 55]\n",
    "      }\n",
    "\n",
    "print(list(filter(lambda n: sum(n) < 140,(sorted(list(data.values()), key=lambda x: x[1] and (sorted(list(data1.values()), key=lambda x: x[1])))))))"
   ]
  }
 ],
 "metadata": {
  "language_info": {
   "name": "python"
  },
  "orig_nbformat": 4
 },
 "nbformat": 4,
 "nbformat_minor": 2
}
