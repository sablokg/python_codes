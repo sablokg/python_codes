{
 "cells": [
  {
   "cell_type": "code",
   "execution_count": null,
   "metadata": {},
   "outputs": [],
   "source": [
    "# Make a list of intersection from lists of lists also called as inner join between two different arrays\n",
    "from itertools import *\n",
    "\n",
    "array_1 = [[10, 20, 30, 40, 50], [50, 60, 70, 10, 80], [60, 50, 10, 40, 40]]\n",
    "array_2 = [[10, 20, 100, 40, 50], [50, 60, 200, 10, 80], [60, 50, 300, 40, 40]]\n",
    "var_1 = []\n",
    "var_2 = []\n",
    "var_common = []\n",
    "for i in array_1:\n",
    "    for j in i:\n",
    "        var_1.append(j)\n",
    "for n in array_2:\n",
    "    for k in n:\n",
    "        var_2.append(k)\n",
    "var_common.append(set(var_1) | set(var_2))"
   ]
  }
 ],
 "metadata": {
  "language_info": {
   "name": "python"
  },
  "orig_nbformat": 4
 },
 "nbformat": 4,
 "nbformat_minor": 2
}
