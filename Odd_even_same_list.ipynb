{
 "cells": [
  {
   "cell_type": "code",
   "execution_count": null,
   "metadata": {},
   "outputs": [],
   "source": [
    "# Make an array of the odd and even with even separated into right side and odd separated on the left side\n",
    "l=[25,40,10,20,10,25,35,40,25,15,10,40,55,10,20,33,15,10]\n",
    "j=0\n",
    "for i in range(len(l)):\n",
    "  if l[j]%2:\n",
    "    l.append(l.pop(j))\n",
    "  else:\n",
    "    j=j+1\n",
    "print(l) \n",
    "#Using list comprehension\n",
    "[[x for x in l if x%2==0], [x for x in l if x%2]]"
   ]
  }
 ],
 "metadata": {
  "language_info": {
   "name": "python"
  },
  "orig_nbformat": 4
 },
 "nbformat": 4,
 "nbformat_minor": 2
}
