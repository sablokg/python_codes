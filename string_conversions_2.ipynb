{
 "cells": [
  {
   "cell_type": "code",
   "execution_count": null,
   "metadata": {},
   "outputs": [],
   "source": [
    "# Convert a list of characters in a string\n",
    "\n",
    "s=input('\\nEnter a string : ') \n",
    "\n",
    "x=set(s)\n",
    "print()\n",
    "print('Using set()               :',x)\n",
    "\n",
    "x=set()\n",
    "for c in s:\n",
    " x.add(c)\n",
    "\n",
    "print()\n",
    "print('Using for..in loop        :',x)\n",
    "\n",
    "x={c for c in s}\n",
    "\n",
    "print()\n",
    "print('Using Set Comprehension   :',x)"
   ]
  }
 ],
 "metadata": {
  "language_info": {
   "name": "python"
  },
  "orig_nbformat": 4
 },
 "nbformat": 4,
 "nbformat_minor": 2
}
