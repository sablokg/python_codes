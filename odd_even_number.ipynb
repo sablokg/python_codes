{
 "cells": [
  {
   "cell_type": "code",
   "execution_count": null,
   "metadata": {},
   "outputs": [],
   "source": [
    "# To filter list based on even and odd numbers\n",
    "l=[25,40,10,20,10,25,35,40,25,15,10,40,55,10,20,33,15,10]\n",
    "list_count_odd=[]\n",
    "list_count_even=[]\n",
    "for n in l:\n",
    "    if n%2==0:\n",
    "        list_count_even.append(n)\n",
    "        continue\n",
    "    if n%2==1:\n",
    "        list_count_odd.append(n)"
   ]
  }
 ],
 "metadata": {
  "kernelspec": {
   "display_name": "Python 3.11.0 64-bit",
   "language": "python",
   "name": "python3"
  },
  "language_info": {
   "name": "python",
   "version": "3.11.0"
  },
  "orig_nbformat": 4,
  "vscode": {
   "interpreter": {
    "hash": "20e40d8fc09a6690434ad602c7eb2d8de15d36ec466bfbfb0de97c7c540d7363"
   }
  }
 },
 "nbformat": 4,
 "nbformat_minor": 2
}
