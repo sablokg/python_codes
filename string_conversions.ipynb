{
 "cells": [
  {
   "cell_type": "code",
   "execution_count": null,
   "metadata": {},
   "outputs": [],
   "source": [
    "# Convert a list of strings and characters to a list of characters\n",
    "s=input('\\nEnter a string : ') \n",
    "\n",
    "l=list(s)\n",
    "print()\n",
    "print('Using list()             :',l)\n",
    "\n",
    "l=[c for c in s]\n",
    "print()\n",
    "print('Using List Comprehension :',l)\n",
    "\n",
    "l=[]\n",
    "for c in s:\n",
    " l.append(c)\n",
    "\n",
    "print()\n",
    "print('Using for..in loop       :',l)"
   ]
  }
 ],
 "metadata": {
  "language_info": {
   "name": "python"
  },
  "orig_nbformat": 4
 },
 "nbformat": 4,
 "nbformat_minor": 2
}
