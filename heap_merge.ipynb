{
 "cells": [
  {
   "cell_type": "code",
   "execution_count": null,
   "metadata": {},
   "outputs": [],
   "source": [
    "#This implementation uses arrays for which heap[k] <= heap[2*k+1] and heap[k] <= heap[2*k+2] for all k, counting elements from zero.\n",
    "import heapq\n",
    "from heapq import merge\n",
    "a = [1, 2, 3, 4, 5] \n",
    "b = [6, 7, 8, 9, 10]\n",
    "list(heapq.merge(a,b))\n",
    "[1, 2, 3, 4, 5, 6, 7, 8, 9, 10]\n",
    "for x in heapq.merge(a,b):\n",
    "    print(x, end='')\n",
    "12345678910"
   ]
  }
 ],
 "metadata": {
  "kernelspec": {
   "display_name": "Python 3",
   "language": "python",
   "name": "python3"
  },
  "language_info": {
   "name": "python",
   "version": "3.11.0 (v3.11.0:deaf509e8f, Oct 24 2022, 14:43:23) [Clang 13.0.0 (clang-1300.0.29.30)]"
  },
  "orig_nbformat": 4,
  "vscode": {
   "interpreter": {
    "hash": "1a1af0ee75eeea9e2e1ee996c87e7a2b11a0bebd85af04bb136d915cefc0abce"
   }
  }
 },
 "nbformat": 4,
 "nbformat_minor": 2
}
