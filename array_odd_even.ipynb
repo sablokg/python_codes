{
 "cells": [
  {
   "cell_type": "code",
   "execution_count": null,
   "metadata": {},
   "outputs": [],
   "source": [
    "# Create an array of odd and even numbers between 5 and 25\n",
    "l=[]\n",
    "for n in range(5,25):\n",
    "  if n%2==0:\n",
    "    l.append(n)\n",
    "print(l)\n",
    "\n",
    "l=[]\n",
    "for n in range(5,25):\n",
    "  if n%2==1:\n",
    "    l.append(n)\n",
    "print(l)"
   ]
  }
 ],
 "metadata": {
  "kernelspec": {
   "display_name": "Python 3.11.0 64-bit",
   "language": "python",
   "name": "python3"
  },
  "language_info": {
   "name": "python",
   "version": "3.11.0"
  },
  "orig_nbformat": 4,
  "vscode": {
   "interpreter": {
    "hash": "20e40d8fc09a6690434ad602c7eb2d8de15d36ec466bfbfb0de97c7c540d7363"
   }
  }
 },
 "nbformat": 4,
 "nbformat_minor": 2
}
