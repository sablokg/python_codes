{
 "cells": [
  {
   "cell_type": "code",
   "execution_count": null,
   "metadata": {},
   "outputs": [],
   "source": [
    "# To determine the item with the largest frequency in the list\n",
    "l=[25,40,10,20,10,25,35,40,25,15,10,40,55,10,20,33,15,10]\n",
    "\n",
    "# counter method\n",
    "from collections import Counter\n",
    "Counter(l).most_common()\n",
    "Counter(l).most_common()[0][0]\n",
    "\n",
    "#function method\n",
    "f=[]\n",
    "for n in set(l):\n",
    "  f.append((n,l.count(n)))\n",
    "  max(f)[0]"
   ]
  }
 ],
 "metadata": {
  "kernelspec": {
   "display_name": "Python 3.11.0 64-bit",
   "language": "python",
   "name": "python3"
  },
  "language_info": {
   "name": "python",
   "version": "3.11.0"
  },
  "orig_nbformat": 4,
  "vscode": {
   "interpreter": {
    "hash": "20e40d8fc09a6690434ad602c7eb2d8de15d36ec466bfbfb0de97c7c540d7363"
   }
  }
 },
 "nbformat": 4,
 "nbformat_minor": 2
}
