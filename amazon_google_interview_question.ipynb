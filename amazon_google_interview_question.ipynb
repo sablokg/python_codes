{
 "cells": [
  {
   "cell_type": "code",
   "execution_count": null,
   "metadata": {},
   "outputs": [],
   "source": [
    "#Amazon, google interview question but data example is mine\n",
    "data={'Veronica': [60, 75, -50],\n",
    "      'Cynthia': [50, 55, 70],\n",
    "      'Miley': [70, -50, 90],\n",
    "      'Wanda': [40, 70, 80],\n",
    "      'Ronnie': [25, -80, 55],\n",
    "      'Samantha': [40, 90, 70],\n",
    "      'Sarah': [85, 75, 95],\n",
    "      'Yvonne': [75, -75, 75],\n",
    "      'Timothy': [90, 85, 80],\n",
    "      'Leah': [55, -30, 40],\n",
    "      'June': [25, 30, 40],\n",
    "      'Betty': [10, 25, 30],\n",
    "      'Cookie': [35, -10, 45],\n",
    "      'Dwight': [80, 65, 60],\n",
    "      'Nashrah': [80, -85, 90],\n",
    "      'Debbie': [65, 75, 55],\n",
    "      'Chloe': [40, -35, 20],\n",
    "      'Merle': [78, 83, 73],\n",
    "      'Tammy': [87, -92, 82],\n",
    "      'April': [66, 79, 53],\n",
    "      'Faith': [66, -79, 53],\n",
    "      'Brenda': [25, 80, 55],\n",
    "      'Emmylou': [75, -80, 80],\n",
    "      'Keira': [50, 45, 55]\n",
    "      }\n",
    "[list(map(lambda x: x.count('1'),v)) for v in ((list(map(lambda x: bin(x)[3:],j))) for j in (list(map(lambda x: -x,i)) for i in data.values()))]"
   ]
  }
 ],
 "metadata": {
  "kernelspec": {
   "display_name": "Python 3",
   "language": "python",
   "name": "python3"
  },
  "language_info": {
   "name": "python",
   "version": "3.11.0 (v3.11.0:deaf509e8f, Oct 24 2022, 14:43:23) [Clang 13.0.0 (clang-1300.0.29.30)]"
  },
  "orig_nbformat": 4,
  "vscode": {
   "interpreter": {
    "hash": "1a1af0ee75eeea9e2e1ee996c87e7a2b11a0bebd85af04bb136d915cefc0abce"
   }
  }
 },
 "nbformat": 4,
 "nbformat_minor": 2
}
