{
 "cells": [
  {
   "cell_type": "code",
   "execution_count": null,
   "metadata": {},
   "outputs": [],
   "source": [
    "a = [2, 4, 6, 8, 10, 12, 14, 16, 18, 20, 24, 26]\n",
    "from iteration_utilities import accumulate\n",
    "from itertools import repeat\n",
    "import operator\n",
    "tuple(accumulate(a, operator.add))[1:]\n",
    "(6, 12, 20, 30, 42, 56, 72, 90, 110, 134, 160)\n",
    "tuple(accumulate(a, operator.mul))[1:]\n",
    "(8,\n",
    " 48,\n",
    " 384,\n",
    " 3840,\n",
    " 46080,\n",
    " 645120,\n",
    " 10321920,\n",
    " 185794560,\n",
    " 3715891200,\n",
    " 89181388800,\n",
    " 2318716108800)"
   ]
  }
 ],
 "metadata": {
  "kernelspec": {
   "display_name": "base",
   "language": "python",
   "name": "python3"
  },
  "language_info": {
   "name": "python",
   "version": "3.9.15 (main, Nov 24 2022, 08:29:02) \n[Clang 14.0.6 ]"
  },
  "orig_nbformat": 4,
  "vscode": {
   "interpreter": {
    "hash": "f731066023ac01cb83b0919592cccda9b3837cfce89d22e0f769b9496944f601"
   }
  }
 },
 "nbformat": 4,
 "nbformat_minor": 2
}
