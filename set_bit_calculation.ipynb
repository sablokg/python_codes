{
 "cells": [
  {
   "cell_type": "code",
   "execution_count": null,
   "metadata": {},
   "outputs": [],
   "source": [
    "# To count the set bits in the number\n",
    "l=[5, 6, 7, 8, 9, 10, 11, 12, 13, 14, 15, 16, 17, 18, 19, 20, 21, 22, 23, 24]\n",
    "l_bin=[]\n",
    "l_count=[]\n",
    "l_matrix=[]\n",
    "for n in l:\n",
    "  l_bin.append(bin(n))\n",
    "for i in l_bin:\n",
    "  j=i[2:]\n",
    "  l_count.append(j)\n",
    "for n in l_count:\n",
    "  p=n.count('1')\n",
    "  l_matrix.append(p)\n",
    "  import numpy as np\n",
    "array= np.array(l_matrix)\n",
    "array.shape"
   ]
  }
 ],
 "metadata": {
  "kernelspec": {
   "display_name": "Python 3.11.0 64-bit",
   "language": "python",
   "name": "python3"
  },
  "language_info": {
   "name": "python",
   "version": "3.11.0"
  },
  "orig_nbformat": 4,
  "vscode": {
   "interpreter": {
    "hash": "20e40d8fc09a6690434ad602c7eb2d8de15d36ec466bfbfb0de97c7c540d7363"
   }
  }
 },
 "nbformat": 4,
 "nbformat_minor": 2
}
