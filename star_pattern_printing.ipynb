{
 "cells": [
  {
   "cell_type": "code",
   "execution_count": 1,
   "metadata": {},
   "outputs": [
    {
     "name": "stdout",
     "output_type": "stream",
     "text": [
      "    *     \n",
      "    **    \n",
      "   ***    \n",
      "   ****   \n",
      "  *****   \n",
      "  ******  \n",
      " *******  \n",
      " ******** \n",
      "********* \n",
      "**********\n",
      "***********\n",
      "**********\n",
      "********* \n",
      " ******** \n",
      " *******  \n",
      "  ******  \n",
      "  *****   \n",
      "   ****   \n",
      "   ***    \n",
      "    **    \n",
      "    *     \n"
     ]
    }
   ],
   "source": [
    "n=10\n",
    "for i in range(1,n+2):\n",
    "    print(('*'*i).center(n))\n",
    "for i in range(n, 0, -1):\n",
    "    print(('*'*i).center(n))\n"
   ]
  },
  {
   "cell_type": "code",
   "execution_count": null,
   "metadata": {},
   "outputs": [],
   "source": []
  }
 ],
 "metadata": {
  "kernelspec": {
   "display_name": "base",
   "language": "python",
   "name": "python3"
  },
  "language_info": {
   "codemirror_mode": {
    "name": "ipython",
    "version": 3
   },
   "file_extension": ".py",
   "mimetype": "text/x-python",
   "name": "python",
   "nbconvert_exporter": "python",
   "pygments_lexer": "ipython3",
   "version": "3.9.15 (main, Nov 24 2022, 08:29:02) \n[Clang 14.0.6 ]"
  },
  "orig_nbformat": 4,
  "vscode": {
   "interpreter": {
    "hash": "f731066023ac01cb83b0919592cccda9b3837cfce89d22e0f769b9496944f601"
   }
  }
 },
 "nbformat": 4,
 "nbformat_minor": 2
}
