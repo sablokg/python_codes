{
 "cells": [
  {
   "cell_type": "code",
   "execution_count": null,
   "metadata": {},
   "outputs": [],
   "source": [
    "# Pattern priniting in python\n",
    "for i in range(1, 10):\n",
    "             print('*', end='')\n",
    "output: *********\n",
    "\n",
    "n=10\n",
    "print('*'*n)\n",
    "output: *********\n",
    "\n",
    "i = 0\n",
    "while i < 15:\n",
    "    i +=1\n",
    "    print('*', end =' ')\n",
    "* * * * * * * * * * * * * * * \n",
    "\n",
    "i = 0\n",
    "while i < 5:\n",
    "    i +=1\n",
    "    print('*\\n', end =' ')\n",
    "\n",
    " *\n",
    " *\n",
    " *\n",
    " *\n",
    " *\n",
    " \n",
    "n=10\n",
    "print('*\\n'*n) \n",
    "\n",
    "*\n",
    "*\n",
    "*\n",
    "*\n",
    "*\n",
    "*\n",
    "*\n",
    "*\n",
    "*\n",
    "\n",
    "# New way \n",
    "n=10\n",
    "m=20\n",
    "for i in range(n):\n",
    "    for j in range(m):\n",
    "        print('*',end='')\n",
    "    print()\n",
    "\n",
    "print('\\n')\n",
    "\n",
    "for i in range(n):\n",
    "    print('*'*m)\n",
    "\n",
    "print('\\n')\n",
    "\n",
    "print(('*'*m+'\\n')*n)"
   ]
  },
  {
   "cell_type": "code",
   "execution_count": null,
   "metadata": {},
   "outputs": [],
   "source": []
  }
 ],
 "metadata": {
  "kernelspec": {
   "display_name": "base",
   "language": "python",
   "name": "python3"
  },
  "language_info": {
   "name": "python",
   "version": "3.9.15 (main, Nov 24 2022, 08:29:02) \n[Clang 14.0.6 ]"
  },
  "orig_nbformat": 4,
  "vscode": {
   "interpreter": {
    "hash": "f731066023ac01cb83b0919592cccda9b3837cfce89d22e0f769b9496944f601"
   }
  }
 },
 "nbformat": 4,
 "nbformat_minor": 2
}
