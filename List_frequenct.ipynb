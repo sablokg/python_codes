{
 "cells": [
  {
   "cell_type": "code",
   "execution_count": null,
   "metadata": {},
   "outputs": [],
   "source": [
    "# To determine the item with the largest frequency in the list\n",
    "l=[25,40,10,20,10,25,35,40,25,15,10,40,55,10,20,33,15,10]\n",
    "d={}\n",
    "for e in l:\n",
    "  if e in d:\n",
    "    d[e]+=1\n",
    "  else:\n",
    "    d[e]=1\n",
    "print(max(d.items(),key=lambda t:t[1])[0]) "
   ]
  }
 ],
 "metadata": {
  "language_info": {
   "name": "python"
  },
  "orig_nbformat": 4
 },
 "nbformat": 4,
 "nbformat_minor": 2
}
