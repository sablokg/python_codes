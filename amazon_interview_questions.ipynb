{
 "cells": [
  {
   "cell_type": "code",
   "execution_count": null,
   "metadata": {},
   "outputs": [],
   "source": [
    "#Determine if the sum of two integers is equal to the given value\n",
    "#Given an array of integers and a value, determine if there are any two integers in the array whose \n",
    "#sum is equal to the given value. Return true if the sum exists and return false if it does not.\n",
    "a=[5,7,1,2,8,4,3] \n",
    "b=10\n",
    "# Return those values whose sum is not equal to the int present in the list\n",
    "[sorted((b-n) for n in a if b-n not in a)]\n",
    "#Return all possible combination of the int whose sum is equal to the defined int\n",
    "[sorted((b-n) for n in a if b-n in a)]\n",
    "[6,9]\n",
    "[5, 3, 8, 2, 7]\n",
    "\n",
    "# Merge two sorted linked lists.Given two sorted linked lists, merge them so that the resulting linked list is also sorted. \n",
    "# Consider two sorted linked lists and the merged list below them as an example\n",
    "a = [4,8,15,19,'Null']\n",
    "b = [7,9,10,16,'Null']\n",
    "print(list(zip(a,b)))\n",
    "[(4, 7), (8, 9), (15, 10), (19, 16), ('Null', 'Null')]\n",
    "\n",
    "#Find the missing number in the array:You are given an array of positive numbers from 1 to n, such that all numbers \n",
    "# from 1 to n are present except one number x. You have to find x. The input array is not sorted\n",
    "a=[3,7,1,2,8,4,5]\n",
    "b=[]\n",
    "sorted(a)\n",
    "for i in range(len(a)):\n",
    "    b.append(i+1)\n",
    "for num in a:\n",
    "    for j in b:\n",
    "        if j not in a:\n",
    "            print(j)\n",
    "[6]\n",
    "\n",
    "#Find all subsets of a given set of integers.We are given a set of integers and we have to find all the possible \n",
    "# subsets of this set of integers\n",
    "a=[2,3,4]\n",
    "from more_itertools import substrings\n",
    "print(list(substrings(a)))\n",
    "[(2,), (3,), (4,), (2, 3), (3, 4), (2, 3, 4)]\n",
    "\n",
    "#Find Kth permutation.Given a set of ‘n’ elements, find their Kth permutation. Consider the following set of elements\n",
    "a=[1,2,3]\n",
    "from itertools import permutations\n",
    "b=permutations(a)\n",
    "print(list(b))\n",
    "[(1, 2, 3), (1, 3, 2), (2, 1, 3), (2, 3, 1), (3, 1, 2), (3, 2, 1)]"
   ]
  }
 ],
 "metadata": {
  "kernelspec": {
   "display_name": "Python 3",
   "language": "python",
   "name": "python3"
  },
  "language_info": {
   "name": "python",
   "version": "3.11.0 (v3.11.0:deaf509e8f, Oct 24 2022, 14:43:23) [Clang 13.0.0 (clang-1300.0.29.30)]"
  },
  "orig_nbformat": 4,
  "vscode": {
   "interpreter": {
    "hash": "1a1af0ee75eeea9e2e1ee996c87e7a2b11a0bebd85af04bb136d915cefc0abce"
   }
  }
 },
 "nbformat": 4,
 "nbformat_minor": 2
}
