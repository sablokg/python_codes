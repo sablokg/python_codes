{
 "cells": [
  {
   "cell_type": "code",
   "execution_count": null,
   "metadata": {},
   "outputs": [],
   "source": [
    "alpha = [[1,2,[3,4,[5,[6,7,8],9],10,[11,12,[13,14]],15],[16,17,[18,19]],20],[21,[22,[23],24],25]]\n",
    "from iteration_utilities import deepflatten\n",
    "from more_itertools import windowed\n",
    "print(list(windowed(list(deepflatten(alpha)),3)))\n",
    "[(1, 2, 3), (2, 3, 4), (3, 4, 5), (4, 5, 6), (5, 6, 7), (6, 7, 8), (7, 8, 9), (8, 9, 10), (9, 10, 11), (10, 11, 12), (11, 12, 13), (12, 13, 14), (13, 14, 15), (14, 15, 16), (15, 16, 17), (16, 17, 18), (17, 18, 19), (18, 19, 20), (19, 20, 21), (20, 21, 22), (21, 22, 23), (22, 23, 24), (23, 24, 25)]"
   ]
  }
 ],
 "metadata": {
  "kernelspec": {
   "display_name": "base",
   "language": "python",
   "name": "python3"
  },
  "language_info": {
   "name": "python",
   "version": "3.9.15 (main, Nov 24 2022, 08:29:02) \n[Clang 14.0.6 ]"
  },
  "orig_nbformat": 4,
  "vscode": {
   "interpreter": {
    "hash": "f731066023ac01cb83b0919592cccda9b3837cfce89d22e0f769b9496944f601"
   }
  }
 },
 "nbformat": 4,
 "nbformat_minor": 2
}
