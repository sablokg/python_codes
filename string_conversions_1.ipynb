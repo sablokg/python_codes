{
 "cells": [
  {
   "cell_type": "code",
   "execution_count": null,
   "metadata": {},
   "outputs": [],
   "source": [
    "# Convert a list of character to a string\n",
    "l=input('\\nEnter chracters separated by spaces : ').split()\n",
    "\n",
    "print('l :',l)\n",
    "\n",
    "s = ''.join(l)\n",
    "print()\n",
    "print('Using join()       : '+s)\n",
    "\n",
    "s=''\n",
    "for c in l:\n",
    " s=s+c\n",
    "\n",
    "print()\n",
    "print('Using for..in loop : '+s)"
   ]
  }
 ],
 "metadata": {
  "language_info": {
   "name": "python"
  },
  "orig_nbformat": 4
 },
 "nbformat": 4,
 "nbformat_minor": 2
}
