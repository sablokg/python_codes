{
 "cells": [
  {
   "cell_type": "code",
   "execution_count": null,
   "metadata": {},
   "outputs": [],
   "source": [
    "#Largest sum subarray\n",
    "#In the array below, the largest sum subarray starts at index 3 and ends at 6, and with the largest sum being 12.\n",
    "#Input: [-2,1,-3,4,-1,2,1,-5,4]\n",
    "#Output: 6\n",
    "#Explanation: [4,-1,2,1] has the largest sum = 6.\n",
    "from more_itertools import windowed\n",
    "print([i for i in list(windowed(a,4))]) \n",
    "print([sum(i) >= 6 for i in list(windowed(a,4))])"
   ]
  }
 ],
 "metadata": {
  "kernelspec": {
   "display_name": "Python 3",
   "language": "python",
   "name": "python3"
  },
  "language_info": {
   "name": "python",
   "version": "3.11.0 (v3.11.0:deaf509e8f, Oct 24 2022, 14:43:23) [Clang 13.0.0 (clang-1300.0.29.30)]"
  },
  "orig_nbformat": 4,
  "vscode": {
   "interpreter": {
    "hash": "1a1af0ee75eeea9e2e1ee996c87e7a2b11a0bebd85af04bb136d915cefc0abce"
   }
  }
 },
 "nbformat": 4,
 "nbformat_minor": 2
}
