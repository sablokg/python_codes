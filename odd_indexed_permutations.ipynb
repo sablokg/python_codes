{
 "cells": [
  {
   "cell_type": "code",
   "execution_count": null,
   "metadata": {},
   "outputs": [],
   "source": [
    "# print only odd first indexed permutations\n",
    "from itertools import permutations\n",
    "data = [1, 2, 3]\n",
    "for i in list(permutations(data)):\n",
    "    if i[0] == 2:\n",
    "        continue\n",
    "    print(i, sum(i))"
   ]
  }
 ],
 "metadata": {
  "language_info": {
   "name": "python"
  },
  "orig_nbformat": 4
 },
 "nbformat": 4,
 "nbformat_minor": 2
}
