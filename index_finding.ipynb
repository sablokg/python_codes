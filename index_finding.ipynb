{
 "cells": [
  {
   "cell_type": "code",
   "execution_count": null,
   "metadata": {},
   "outputs": [],
   "source": [
    "# To get all the indices where a particular value occurs in a list\n",
    "#enumerate method\n",
    "list(enumerate(l))\n",
    "  list(map(lambda t: t[0] , filter(lambda t:t[1]==10, enumerate(l))))\n",
    "    [i for i in range(len(l)) if l[i]==10]\n",
    "\n",
    "#for loop\n",
    "      idx=[]\n",
    "      for i in range(len(l)):\n",
    "        if l[i]==10: idx.append(i)\n",
    "# dictionary method  \n",
    "dict={}\n",
    "  for n in l:\n",
    "    if n in d:\n",
    "      dict[n]+=1\n",
    "    else:\n",
    "      dict[n]=1\n",
    "      max(d.items(),key=lambda t:t[1])[0]"
   ]
  }
 ],
 "metadata": {
  "language_info": {
   "name": "python"
  },
  "orig_nbformat": 4
 },
 "nbformat": 4,
 "nbformat_minor": 2
}
