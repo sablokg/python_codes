{
 "cells": [
  {
   "cell_type": "code",
   "execution_count": 41,
   "metadata": {},
   "outputs": [
    {
     "name": "stdout",
     "output_type": "stream",
     "text": [
      "(1, 2, 3) 6\n",
      "(1, 3, 2) 6\n",
      "(3, 1, 2) 6\n",
      "(3, 2, 1) 6\n"
     ]
    }
   ],
   "source": [
    "# print only odd first indexed permutations\n",
    "from itertools import permutations\n",
    "data = [1, 2, 3]\n",
    "for i in list(permutations(data)):\n",
    "    if i[0] == 2:\n",
    "        continue\n",
    "    print(i, sum(i))"
   ]
  }
 ],
 "metadata": {
  "kernelspec": {
   "display_name": "base",
   "language": "python",
   "name": "python3"
  },
  "language_info": {
   "codemirror_mode": {
    "name": "ipython",
    "version": 3
   },
   "file_extension": ".py",
   "mimetype": "text/x-python",
   "name": "python",
   "nbconvert_exporter": "python",
   "pygments_lexer": "ipython3",
   "version": "3.9.15 (main, Nov 24 2022, 08:29:02) \n[Clang 14.0.6 ]"
  },
  "orig_nbformat": 4,
  "vscode": {
   "interpreter": {
    "hash": "f731066023ac01cb83b0919592cccda9b3837cfce89d22e0f769b9496944f601"
   }
  }
 },
 "nbformat": 4,
 "nbformat_minor": 2
}
