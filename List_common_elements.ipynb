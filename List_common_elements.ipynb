{
 "cells": [
  {
   "cell_type": "code",
   "execution_count": null,
   "metadata": {},
   "outputs": [],
   "source": [
    "# Find the common elements in the list\n",
    "l=[[1,2,3,4,],[2,4,6], [1,4,8,0],[1,2,4,5]]\n",
    "print(list(set.intersection(*map(set,l))))\n",
    "**************\n",
    "i=set(l[0])\n",
    "for s in l[1:]:\n",
    "  i=i&set(s)\n",
    "print(i)\n",
    "**************\n",
    "x=[]\n",
    "for i in l[0]:\n",
    " for s in l:\n",
    "   if i not in s: break\n",
    " else:\n",
    "   x.append(i)\n",
    "print(x)"
   ]
  }
 ],
 "metadata": {
  "language_info": {
   "name": "python"
  },
  "orig_nbformat": 4
 },
 "nbformat": 4,
 "nbformat_minor": 2
}
