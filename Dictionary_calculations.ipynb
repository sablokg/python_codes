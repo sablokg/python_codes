{
 "cells": [
  {
   "cell_type": "code",
   "execution_count": 1,
   "id": "0e947230-4792-4376-abe4-43fa533db408",
   "metadata": {},
   "outputs": [],
   "source": [
    "dd= { 'Veronica' : {'p':60, 'c': 75, 'm': 50}, \n",
    "'Cynthia' : {'p':50, 'c': 55, 'm': 70}, \n",
    "'Miley': {'p':70, 'c': 50, 'm': 90}, \n",
    "'Wanda' : {'p':40, 'c': 70, 'm': 80},\n",
    "'Ronnie' : {'p':25, 'c': 80, 'm': 55}, \n",
    "'Samantha' : {'p':40, 'c': 90, 'm': 70}, \n",
    "'Sarah': {'p':85, 'c': 75, 'm': 95}, \n",
    "'Yvonne' : {'p':75, 'c': 75, 'm': 75}, \n",
    "'Timothy' : {'p':90, 'c': 85, 'm': 80},\n",
    "'Leah' : {'p':55, 'c': 30, 'm': 40},\n",
    "'June' : {'p':25, 'c': 30, 'm': 50},\n",
    "'Betty' : {'p':10, 'c': 25, 'm': 30},\n",
    "'Cookie' : {'p':35, 'c': 10, 'm': 45},\n",
    "'Dwight' : {'p':80, 'c': 65, 'm': 60},\n",
    "'Nashrah' : {'p':80, 'c': 85, 'm': 90},\n",
    "'Debbie': {'p':65, 'c': 75, 'm': 55},\n",
    "'Chloe' : {'p':40, 'c': 35, 'm': 20},\n",
    "'Merle': {'p':78, 'c': 83, 'm': 73},\n",
    "'Tammy': {'p':87, 'c': 92, 'm': 82},\n",
    "'April' : {'p':66, 'c': 79, 'm': 53},\n",
    "'Faith' : {'p':70, 'c': 50, 'm': 90},\n",
    "'Brenda' : {'p':25, 'c': 80, 'm': 55},\n",
    "'Emmylou' : {'p':75, 'c': 65, 'm': 80},\n",
    "'Keira' : {'p':50, 'c': 45, 'm': 55}\n",
    "}"
   ]
  },
  {
   "cell_type": "code",
   "execution_count": 2,
   "id": "b4ed3a7b-ab86-41ec-9096-906a6d5255d7",
   "metadata": {},
   "outputs": [
    {
     "name": "stdout",
     "output_type": "stream",
     "text": [
      "75 dict_values([60, 75, 50]) 185\n",
      "70 dict_values([50, 55, 70]) 175\n",
      "90 dict_values([70, 50, 90]) 210\n",
      "80 dict_values([40, 70, 80]) 190\n",
      "80 dict_values([25, 80, 55]) 160\n",
      "90 dict_values([40, 90, 70]) 200\n",
      "95 dict_values([85, 75, 95]) 255\n",
      "75 dict_values([75, 75, 75]) 225\n",
      "90 dict_values([90, 85, 80]) 255\n",
      "55 dict_values([55, 30, 40]) 125\n",
      "50 dict_values([25, 30, 50]) 105\n",
      "30 dict_values([10, 25, 30]) 65\n",
      "45 dict_values([35, 10, 45]) 90\n",
      "80 dict_values([80, 65, 60]) 205\n",
      "90 dict_values([80, 85, 90]) 255\n",
      "75 dict_values([65, 75, 55]) 195\n",
      "40 dict_values([40, 35, 20]) 95\n",
      "83 dict_values([78, 83, 73]) 234\n",
      "92 dict_values([87, 92, 82]) 261\n",
      "79 dict_values([66, 79, 53]) 198\n",
      "90 dict_values([70, 50, 90]) 210\n",
      "80 dict_values([25, 80, 55]) 160\n",
      "80 dict_values([75, 65, 80]) 220\n",
      "55 dict_values([50, 45, 55]) 150\n"
     ]
    }
   ],
   "source": [
    "for i in dd.values():\n",
    "    print(max(i.values()),(i.values()),sum(i.values()))"
   ]
  },
  {
   "cell_type": "code",
   "execution_count": null,
   "id": "494b479d-2bc9-4de2-b801-28c7e0dc6166",
   "metadata": {},
   "outputs": [],
   "source": []
  }
 ],
 "metadata": {
  "kernelspec": {
   "display_name": "Python 3 (ipykernel)",
   "language": "python",
   "name": "python3"
  },
  "language_info": {
   "codemirror_mode": {
    "name": "ipython",
    "version": 3
   },
   "file_extension": ".py",
   "mimetype": "text/x-python",
   "name": "python",
   "nbconvert_exporter": "python",
   "pygments_lexer": "ipython3",
   "version": "3.9.15"
  }
 },
 "nbformat": 4,
 "nbformat_minor": 5
}
