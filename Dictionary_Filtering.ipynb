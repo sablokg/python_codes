{
 "cells": [
  {
   "cell_type": "code",
   "execution_count": 1,
   "id": "a32eb7aa-885d-4621-a609-dbcfe4497183",
   "metadata": {},
   "outputs": [],
   "source": [
    "dd= { 'Veronica' : {'p':60, 'c': 75, 'm': 50}, \n",
    "'Cynthia' : {'p':50, 'c': 55, 'm': 70}, \n",
    "'Miley': {'p':70, 'c': 50, 'm': 90}, \n",
    "'Wanda' : {'p':40, 'c': 70, 'm': 80},\n",
    "'Ronnie' : {'p':25, 'c': 80, 'm': 55}, \n",
    "'Samantha' : {'p':40, 'c': 90, 'm': 70}, \n",
    "'Sarah': {'p':85, 'c': 75, 'm': 95}, \n",
    "'Yvonne' : {'p':75, 'c': 75, 'm': 75}, \n",
    "'Timothy' : {'p':90, 'c': 85, 'm': 80},\n",
    "'Leah' : {'p':55, 'c': 30, 'm': 40},\n",
    "'June' : {'p':25, 'c': 30, 'm': 50},\n",
    "'Betty' : {'p':10, 'c': 25, 'm': 30},\n",
    "'Cookie' : {'p':35, 'c': 10, 'm': 45},\n",
    "'Dwight' : {'p':80, 'c': 65, 'm': 60},\n",
    "'Nashrah' : {'p':80, 'c': 85, 'm': 90},\n",
    "'Debbie': {'p':65, 'c': 75, 'm': 55},\n",
    "'Chloe' : {'p':40, 'c': 35, 'm': 20},\n",
    "'Merle': {'p':78, 'c': 83, 'm': 73},\n",
    "'Tammy': {'p':87, 'c': 92, 'm': 82},\n",
    "'April' : {'p':66, 'c': 79, 'm': 53},\n",
    "'Faith' : {'p':70, 'c': 50, 'm': 90},\n",
    "'Brenda' : {'p':25, 'c': 80, 'm': 55},\n",
    "'Emmylou' : {'p':75, 'c': 65, 'm': 80},\n",
    "'Keira' : {'p':50, 'c': 45, 'm': 55}\n",
    "}"
   ]
  },
  {
   "cell_type": "code",
   "execution_count": 3,
   "id": "bd6c22c1-5351-4b6e-936c-349ca65faa72",
   "metadata": {},
   "outputs": [
    {
     "data": {
      "text/plain": [
       "(('Leah', {'p': 55, 'c': 30, 'm': 40}),\n",
       " ('Betty', {'p': 10, 'c': 25, 'm': 30}),\n",
       " ('Cookie', {'p': 35, 'c': 10, 'm': 45}),\n",
       " ('Chloe', {'p': 40, 'c': 35, 'm': 20}))"
      ]
     },
     "execution_count": 3,
     "metadata": {},
     "output_type": "execute_result"
    }
   ],
   "source": [
    "tuple(filter(lambda t: t[1]['m']<50,dd.items()))"
   ]
  },
  {
   "cell_type": "code",
   "execution_count": null,
   "id": "7510cc5b-4280-4e53-b1c5-7e1f75ed8521",
   "metadata": {},
   "outputs": [],
   "source": []
  }
 ],
 "metadata": {
  "kernelspec": {
   "display_name": "Python 3 (ipykernel)",
   "language": "python",
   "name": "python3"
  },
  "language_info": {
   "codemirror_mode": {
    "name": "ipython",
    "version": 3
   },
   "file_extension": ".py",
   "mimetype": "text/x-python",
   "name": "python",
   "nbconvert_exporter": "python",
   "pygments_lexer": "ipython3",
   "version": "3.9.15"
  }
 },
 "nbformat": 4,
 "nbformat_minor": 5
}
