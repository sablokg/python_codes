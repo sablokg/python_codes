{
 "cells": [
  {
   "cell_type": "code",
   "execution_count": null,
   "metadata": {},
   "outputs": [],
   "source": [
    "# Unpack a deeply nested list of lists\n",
    "l = [[1,2,[3,4,[5,[6,7,8],9],10,[11,12,[13,14]],15],[16,17,[18,19]],20],[21,[22,[23],24],25]]\n",
    "def unpack(L):\n",
    "    for l in L:\n",
    "        if isinstance(l, list):\n",
    "            yield from unpack(l)\n",
    "        else:\n",
    "            yield l"
   ]
  }
 ],
 "metadata": {
  "kernelspec": {
   "display_name": "Python 3.11.0 64-bit",
   "language": "python",
   "name": "python3"
  },
  "language_info": {
   "name": "python",
   "version": "3.11.0"
  },
  "orig_nbformat": 4,
  "vscode": {
   "interpreter": {
    "hash": "1a1af0ee75eeea9e2e1ee996c87e7a2b11a0bebd85af04bb136d915cefc0abce"
   }
  }
 },
 "nbformat": 4,
 "nbformat_minor": 2
}
