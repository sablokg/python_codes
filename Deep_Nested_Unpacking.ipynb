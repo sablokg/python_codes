{
 "cells": [
  {
   "cell_type": "code",
   "execution_count": null,
   "metadata": {},
   "outputs": [],
   "source": [
    "# Unpack a deeply nested list of lists\n",
    "l = [[1,2,[3,4,[5,[6,7,8],9],10,[11,12,[13,14]],15],[16,17,[18,19]],20],[21,[22,[23],24],25]]\n",
    "def unpack(L):\n",
    "    for l in L:\n",
    "        if isinstance(l, list):\n",
    "            yield from unpack(l)\n",
    "        else:\n",
    "            yield l"
   ]
  },
  {
   "cell_type": "code",
   "execution_count": null,
   "metadata": {},
   "outputs": [],
   "source": [
    "# Unpack a deeply nested list of lists\n",
    "def flat(l):\n",
    "    x=[]\n",
    "    for i in l:\n",
    "        if type(i)==list:\n",
    "            x.extend(flat(i))\n",
    "        else:\n",
    "            x.append(i)\n",
    "    return x\n",
    "    "
   ]
  }
 ],
 "metadata": {
  "kernelspec": {
   "display_name": "Python 3.9.15 ('base')",
   "language": "python",
   "name": "python3"
  },
  "language_info": {
   "codemirror_mode": {
    "name": "ipython",
    "version": 3
   },
   "file_extension": ".py",
   "mimetype": "text/x-python",
   "name": "python",
   "nbconvert_exporter": "python",
   "pygments_lexer": "ipython3",
   "version": "3.9.15"
  },
  "orig_nbformat": 4,
  "vscode": {
   "interpreter": {
    "hash": "f731066023ac01cb83b0919592cccda9b3837cfce89d22e0f769b9496944f601"
   }
  }
 },
 "nbformat": 4,
 "nbformat_minor": 2
}
