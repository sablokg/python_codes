{
 "cells": [
  {
   "cell_type": "code",
   "execution_count": null,
   "metadata": {},
   "outputs": [],
   "source": [
    "# Make a list of lists according to the range of the given list and remove those lists whose sum is odd\n",
    "a=[1, 2, 3, 4, 5, 6, 7, 8, 9, 10]\n",
    "b=[]\n",
    "for i in range(len(a)):\n",
    "  b.append(a[i::4])\n",
    "for v in b:\n",
    "  if sum(v)%2==1:\n",
    "    continue\n",
    "  else:\n",
    "    print(v)\n",
    "    \n",
    "# Make a list of lists according to the range of the given list and remove those lists whose sum is even\n",
    "a=[1, 2, 3, 4, 5, 6, 7, 8, 9, 10]\n",
    "b=[]\n",
    "for i in range(len(a)):\n",
    "  b.append(a[i::4])\n",
    "for v in b:\n",
    "  if sum(v)%2==0:\n",
    "    continue\n",
    "  else:\n",
    "    print(v)"
   ]
  }
 ],
 "metadata": {
  "language_info": {
   "name": "python"
  },
  "orig_nbformat": 4
 },
 "nbformat": 4,
 "nbformat_minor": 2
}
