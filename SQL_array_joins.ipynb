{
 "cells": [
  {
   "cell_type": "code",
   "execution_count": 2,
   "metadata": {},
   "outputs": [],
   "source": [
    "# Merge two lists and make a list of lists with the number of the range of the list\n",
    "l=[1,2,3]\n",
    "l1=[2,4,6]\n",
    "l2=[]\n",
    "for i in range(len(l)):\n",
    "    for j in range(len(l)):\n",
    "        merge = l[:] + l1[:]\n",
    "    l2.append(merge)\n",
    "\n",
    "# Make an intersection of given lists\n",
    "\n",
    "l=[1,2,3]\n",
    "l1=[2,4,6]\n",
    "l2=[]\n",
    "for i in range(len(l)):\n",
    "    for j in range(len(l)):\n",
    "        merge = set(l[:]) ^ set(l1[:])\n",
    "l2.append(merge)\n",
    "\n",
    "# Function for intersection of given lists\n",
    "\n",
    "def merge(array_1,array_2):\n",
    "  for i in range(len(array_1)):\n",
    "    for j in range(len(array_2)):\n",
    "      merge = set(l[:]) ^ set(l1[:])\n",
    "    return merge\n",
    "\n",
    "# Make an inner join of given lists\n",
    "\n",
    "l=[1,2,3]\n",
    "l1=[2,4,6]\n",
    "l2=[]\n",
    "for i in range(len(l)):\n",
    "    for j in range(len(l)):\n",
    "        inner_join = set(l[:]) & set(l1[:])\n",
    "l2.append(inner_join)\n",
    "\n",
    "def inner_join(array_1,array_2,):\n",
    "  for i in range(len(array_1)):\n",
    "    for j in range(len(array_2)):\n",
    "      inner_join= set(l[:]) & set(l1[:])\n",
    "      return inner_join"
   ]
  }
 ],
 "metadata": {
  "kernelspec": {
   "display_name": "Python 3.10.8 64-bit",
   "language": "python",
   "name": "python3"
  },
  "language_info": {
   "codemirror_mode": {
    "name": "ipython",
    "version": 3
   },
   "file_extension": ".py",
   "mimetype": "text/x-python",
   "name": "python",
   "nbconvert_exporter": "python",
   "pygments_lexer": "ipython3",
   "version": "3.10.8"
  },
  "orig_nbformat": 4,
  "vscode": {
   "interpreter": {
    "hash": "aee8b7b246df8f9039afb4144a1f6fd8d2ca17a180786b69acc140d282b71a49"
   }
  }
 },
 "nbformat": 4,
 "nbformat_minor": 2
}
