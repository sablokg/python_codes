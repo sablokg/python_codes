{
 "cells": [
  {
   "cell_type": "code",
   "execution_count": null,
   "metadata": {},
   "outputs": [],
   "source": [
    "# Adding each number of the other array to the first array\n",
    "array1 = [1, 2, 3]\n",
    "array2 = [4, 5, 6]\n",
    "b = []\n",
    "for i in array1:\n",
    "  for j in array2:\n",
    "    b.append([i,j])\n",
    "    \n",
    "# Python allows for direct operators on lists\n",
    "array1 = [1, 2, 3]\n",
    "array2 = [4, 5, 6]\n",
    "\n",
    "a_b= array1+array2\n",
    "\n",
    "\n",
    "# This is for list wise additions:\n",
    "\n",
    "You can use the list comprehension\n",
    "[x+y for x, y in zip(array1,array2)]\n",
    "\n",
    "# if you want to make a array wise tuple:\n",
    "\n",
    "list(zip(array1,array2))\n",
    "\n",
    "#You can see in javascript when the three arrays have been added, \n",
    "#they are not in the order, you can do the addition of the arrays in sorted. See below:\n",
    "\n",
    "array1 = [1, 2, 3]\n",
    "array2 = [4, 5, 6]\n",
    "array3 = [7, 8, 9]\n",
    "sorted(array1+array2+array3)\n",
    "sorted(array1+array2+array3)"
   ]
  }
 ],
 "metadata": {
  "kernelspec": {
   "display_name": "Python 3.11.0 64-bit",
   "language": "python",
   "name": "python3"
  },
  "language_info": {
   "name": "python",
   "version": "3.11.0"
  },
  "orig_nbformat": 4,
  "vscode": {
   "interpreter": {
    "hash": "1a1af0ee75eeea9e2e1ee996c87e7a2b11a0bebd85af04bb136d915cefc0abce"
   }
  }
 },
 "nbformat": 4,
 "nbformat_minor": 2
}
