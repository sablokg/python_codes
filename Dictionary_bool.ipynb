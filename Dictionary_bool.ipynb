{
 "cells": [
  {
   "cell_type": "code",
   "execution_count": 46,
   "id": "c9cbe01e-8e91-4bfa-98b8-0c9c5b0c6f05",
   "metadata": {},
   "outputs": [],
   "source": [
    "dd= { 'Veronica' : {'p':60, 'c': 75, 'm': 50}, \n",
    "'Cynthia' : {'p':50, 'c': 55, 'm': 70}, \n",
    "'Miley': {'p':70, 'c': 50, 'm': 90}, \n",
    "'Wanda' : {'p':40, 'c': 70, 'm': 80},\n",
    "'Ronnie' : {'p':25, 'c': 80, 'm': 55}, \n",
    "'Samantha' : {'p':40, 'c': 90, 'm': 70}, \n",
    "'Sarah': {'p':85, 'c': 75, 'm': 95}, \n",
    "'Yvonne' : {'p':75, 'c': 75, 'm': 75}, \n",
    "'Timothy' : {'p':90, 'c': 85, 'm': 80},\n",
    "'Leah' : {'p':55, 'c': 30, 'm': 40},\n",
    "'June' : {'p':25, 'c': 30, 'm': 50},\n",
    "'Betty' : {'p':10, 'c': 25, 'm': 30},\n",
    "'Cookie' : {'p':35, 'c': 10, 'm': 45},\n",
    "'Dwight' : {'p':80, 'c': 65, 'm': 60},\n",
    "'Nashrah' : {'p':80, 'c': 85, 'm': 90},\n",
    "'Debbie': {'p':65, 'c': 75, 'm': 55},\n",
    "'Chloe' : {'p':40, 'c': 35, 'm': 20},\n",
    "'Merle': {'p':78, 'c': 83, 'm': 73},\n",
    "'Tammy': {'p':87, 'c': 92, 'm': 82},\n",
    "'April' : {'p':66, 'c': 79, 'm': 53},\n",
    "'Faith' : {'p':70, 'c': 50, 'm': 90},\n",
    "'Brenda' : {'p':25, 'c': 80, 'm': 55},\n",
    "'Emmylou' : {'p':75, 'c': 65, 'm': 80},\n",
    "'Keira' : {'p':50, 'c': 45, 'm': 55}\n",
    "}"
   ]
  },
  {
   "cell_type": "code",
   "execution_count": null,
   "id": "fcbb16a7-5f88-42ca-ab67-75c7a814beed",
   "metadata": {},
   "outputs": [],
   "source": [
    "student_two_subjects = []\n",
    "for key, value in dd.items():\n",
    "    student_two_subjects.append([key, value['m'] > 50])\n",
    "print(student_two_subjects)"
   ]
  }
 ],
 "metadata": {
  "kernelspec": {
   "display_name": "Python 3 (ipykernel)",
   "language": "python",
   "name": "python3"
  },
  "language_info": {
   "codemirror_mode": {
    "name": "ipython",
    "version": 3
   },
   "file_extension": ".py",
   "mimetype": "text/x-python",
   "name": "python",
   "nbconvert_exporter": "python",
   "pygments_lexer": "ipython3",
   "version": "3.9.15"
  }
 },
 "nbformat": 4,
 "nbformat_minor": 5
}
