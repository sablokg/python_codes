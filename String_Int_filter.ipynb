{
 "cells": [
  {
   "cell_type": "code",
   "execution_count": null,
   "metadata": {},
   "outputs": [],
   "source": [
    "a = [[9, 10, 'text', 12],[7, 'text', 8, 10, 15]]\n",
    "b = []\n",
    "c = []\n",
    "for i in a:\n",
    "  for k in i:\n",
    "    if type(k) == int:\n",
    "      b.append(k)\n",
    "    if type(k) == str:\n",
    "      c.append(k)\n",
    "print(a,b,c)"
   ]
  }
 ],
 "metadata": {
  "language_info": {
   "name": "python"
  },
  "orig_nbformat": 4
 },
 "nbformat": 4,
 "nbformat_minor": 2
}
