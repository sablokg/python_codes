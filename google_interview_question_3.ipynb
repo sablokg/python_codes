{
 "cells": [
  {
   "cell_type": "code",
   "execution_count": 15,
   "metadata": {},
   "outputs": [
    {
     "data": {
      "text/plain": [
       "[7, 2]"
      ]
     },
     "execution_count": 15,
     "metadata": {},
     "output_type": "execute_result"
    }
   ],
   "source": [
    "#Sum of two values\n",
    "#Given an array of integers and a value, determine if there are any two integers in the array whose sum is equal to the given value. \n",
    "#Return true if the sum exists and return false if it does not.\n",
    "#Given nums = [2, 7, 11, 15], target = 9,\n",
    "#Because nums[0] + nums[1] = 2 + 7 = 9,\n",
    "#return [0, 1].\n",
    "a = [2, 7, 11, 15]\n",
    "b = 9\n",
    "[(b-n) for n in a if b-n in a]\n"
   ]
  },
  {
   "cell_type": "code",
   "execution_count": null,
   "metadata": {},
   "outputs": [],
   "source": []
  }
 ],
 "metadata": {
  "kernelspec": {
   "display_name": "base",
   "language": "python",
   "name": "python3"
  },
  "language_info": {
   "codemirror_mode": {
    "name": "ipython",
    "version": 3
   },
   "file_extension": ".py",
   "mimetype": "text/x-python",
   "name": "python",
   "nbconvert_exporter": "python",
   "pygments_lexer": "ipython3",
   "version": "3.9.15"
  },
  "orig_nbformat": 4,
  "vscode": {
   "interpreter": {
    "hash": "f731066023ac01cb83b0919592cccda9b3837cfce89d22e0f769b9496944f601"
   }
  }
 },
 "nbformat": 4,
 "nbformat_minor": 2
}
