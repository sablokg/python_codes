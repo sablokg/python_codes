{
 "cells": [
  {
   "cell_type": "code",
   "execution_count": null,
   "metadata": {},
   "outputs": [],
   "source": [
    "#Write code to search whether an array has a majority element. If yes, print it.\n",
    "#Answer: The following C++ program searches for the majority element in an array \n",
    "#[10, 22, 22, 21, 22, 23, 22] and then prints it:\n",
    "a=[10, 22, 22, 21, 22, 23, 22]\n",
    "b=[]\n",
    "from collections import Counter\n",
    "for i in a:\n",
    "    b.append((a.count(i),(i)))\n",
    "print(b)\n",
    "print(Counter(b).most_common(1))"
   ]
  }
 ],
 "metadata": {
  "kernelspec": {
   "display_name": "base",
   "language": "python",
   "name": "python3"
  },
  "language_info": {
   "name": "python",
   "version": "3.9.15 (main, Nov 24 2022, 08:29:02) \n[Clang 14.0.6 ]"
  },
  "orig_nbformat": 4,
  "vscode": {
   "interpreter": {
    "hash": "f731066023ac01cb83b0919592cccda9b3837cfce89d22e0f769b9496944f601"
   }
  }
 },
 "nbformat": 4,
 "nbformat_minor": 2
}
